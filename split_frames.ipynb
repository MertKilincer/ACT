{
 "cells": [
  {
   "cell_type": "code",
   "execution_count": 1,
   "metadata": {},
   "outputs": [],
   "source": [
    "# splitting videos into frames and save them in a folder\n",
    "import cv2\n",
    "import os\n",
    "import sys\n",
    "\n",
    "def video_to_frames(video_path, output_path, start_sec=0, end_sec=None):\n",
    "    # Create a VideoCapture object\n",
    "    cap = cv2.VideoCapture(video_path)\n",
    "    # Check if video opened successfully\n",
    "    if not cap.isOpened():\n",
    "        print(\"Error opening video stream or file\")\n",
    "        sys.exit(1)\n",
    "\n",
    "    # convert seconds to frames\n",
    "    fps = cap.get(cv2.CAP_PROP_FPS)\n",
    "    start_frame = int(start_sec * fps)\n",
    "    end_frame = None\n",
    "    if end_sec is not None:\n",
    "        end_frame = int(end_sec * fps)\n",
    "\n",
    "    if end_frame is not None or start_frame != 0: # split frames start to end\n",
    "        cap.set(cv2.CAP_PROP_POS_FRAMES, start_frame)\n",
    "        frame_count = 0\n",
    "        while cap.isOpened():\n",
    "            # Capture frame-by-frame\n",
    "            ret, frame = cap.read()\n",
    "            if ret:\n",
    "                # Save the frame\n",
    "                frame_count += 1\n",
    "                frame_name = f\"{output_path}/frame_{frame_count}.jpg\"\n",
    "                cv2.imwrite(frame_name, frame)\n",
    "                if frame_count == end_frame:\n",
    "                    break\n",
    "            else:\n",
    "                break\n",
    "        print(f\"Total frames: {frame_count}\")\n",
    "\n",
    "\n",
    "    # When everything done, release the video capture object\n",
    "    cap.release()\n",
    "    # Closes all the frames\n",
    "    cv2.destroyAllWindows()\n",
    "    "
   ]
  },
  {
   "cell_type": "code",
   "execution_count": 2,
   "metadata": {},
   "outputs": [
    {
     "name": "stdout",
     "output_type": "stream",
     "text": [
      "Total frames: 45\n"
     ]
    }
   ],
   "source": [
    "video_path = \"videos/✅ Plank .mp4\"\n",
    "output_path = \"denemee\"\n",
    "start_frame = 0\n",
    "end_frame = 1.5\n",
    "video_to_frames(video_path, output_path, start_frame, end_frame)"
   ]
  },
  {
   "cell_type": "code",
   "execution_count": null,
   "metadata": {},
   "outputs": [],
   "source": [
    "# download the video from the given url\n",
    "\n",
    "# import requests\n",
    "# url = \"https://www.youtube.com/shorts/UIyZUHq2UdU\"\n",
    "\n",
    "# r = requests.get(url)\n",
    "# with open(\"video.mp4\", \"wb\") as file:\n"
   ]
  },
  {
   "cell_type": "code",
   "execution_count": null,
   "metadata": {},
   "outputs": [],
   "source": [
    "import yt_dlp\n",
    "\n",
    "\n",
    "def download_video_simple(url, save_path=\"downloads\", class_name = \"plank\"):\n",
    "    \n",
    "    files = os.listdir(save_path)\n",
    "    count = 0\n",
    "    for i in range(len(files)):\n",
    "        if class_name == files[i].split(\".\")[0].split(\"_\")[0]:\n",
    "            count+= 1\n",
    "    count +=1\n",
    "\n",
    "    video_path = f\"{class_name}_{count}.mp4\"\n",
    "\n",
    "    ydl_opts = {\n",
    "        'format': 'bestvideo+bestaudio/best',\n",
    "        'outtmpl': os.path.join(save_path, video_path),\n",
    "        'merge_output_format': 'mp4',\n",
    "        'postprocessors': [{\n",
    "            'key': 'FFmpegVideoConvertor',\n",
    "            'preferedformat': 'mp4',\n",
    "        }],\n",
    "        'ffmpeg_location': r'C:/ffmpeg/bin',\n",
    "    }\n",
    "\n",
    "    try:\n",
    "        with yt_dlp.YoutubeDL(ydl_opts) as ydl:\n",
    "            ydl.download([url])\n",
    "    except Exception as e:\n",
    "        print(e)"
   ]
  },
  {
   "cell_type": "code",
   "execution_count": 4,
   "metadata": {},
   "outputs": [],
   "source": [
    "def download_and_split_video(url, output_path, start_sec=0, end_sec=None, download_path=\"downloads\",class_name=\"plank\"):\n",
    "    # name with count number and class name \n",
    "    download_video_simple(url, save_path=download_path, class_name=class_name)\n",
    "    # find count of files in the downloads path\n",
    "    \n",
    "    video_to_frames(video_path, output_path, start_sec, end_sec)"
   ]
  },
  {
   "cell_type": "code",
   "execution_count": 5,
   "metadata": {},
   "outputs": [
    {
     "name": "stdout",
     "output_type": "stream",
     "text": [
      "[youtube] Extracting URL: https://www.youtube.com/shorts/UIyZUHq2UdU\n",
      "[youtube] UIyZUHq2UdU: Downloading webpage\n",
      "[youtube] UIyZUHq2UdU: Downloading ios player API JSON\n",
      "[youtube] UIyZUHq2UdU: Downloading web creator player API JSON\n",
      "[youtube] UIyZUHq2UdU: Downloading m3u8 information\n",
      "[info] UIyZUHq2UdU: Downloading 1 format(s): 616+251\n",
      "[hlsnative] Downloading m3u8 manifest\n",
      "[hlsnative] Total fragments: 2\n",
      "[download] Destination: downloads\\f{class_name}_{count}.f616.mp4\n",
      "[download] 100% of    3.40MiB in 00:00:03 at 1016.87KiB/s              \n",
      "[download] Destination: downloads\\f{class_name}_{count}.f251.webm\n",
      "[download] 100% of  181.69KiB in 00:00:00 at 992.31KiB/s \n",
      "[Merger] Merging formats into \"downloads\\f{class_name}_{count}.mp4\"\n",
      "Deleting original file downloads\\f{class_name}_{count}.f616.mp4 (pass -k to keep)\n",
      "Deleting original file downloads\\f{class_name}_{count}.f251.webm (pass -k to keep)\n",
      "[VideoConvertor] Not converting media file \"downloads\\f{class_name}_{count}.mp4\"; already is in target format mp4\n",
      "Total frames: 45\n"
     ]
    }
   ],
   "source": [
    "download_and_split_video(\"https://www.youtube.com/shorts/UIyZUHq2UdU\", \"denemee\", 0, 1.5, \"downloads\", \"plank\")"
   ]
  },
  {
   "cell_type": "code",
   "execution_count": null,
   "metadata": {},
   "outputs": [
    {
     "name": "stdout",
     "output_type": "stream",
     "text": [
      "Total frames: 351\n"
     ]
    }
   ],
   "source": [
    "video_path = \"How to do Smith Machine Bench Press.mp4\"\n",
    "output_path = \"images/bench press\"\n",
    "if not os.path.exists(output_path):\n",
    "    os.makedirs(output_path)\n",
    "video_to_frames(video_path, output_path)"
   ]
  },
  {
   "cell_type": "code",
   "execution_count": 3,
   "metadata": {},
   "outputs": [
    {
     "name": "stdout",
     "output_type": "stream",
     "text": [
      "Total frames: 970\n"
     ]
    }
   ],
   "source": [
    "video_path = \"Perfect Bench Press Form (DO THIS!).mp4\"\n",
    "output_path = \"images/bench press\"\n",
    "if not os.path.exists(output_path):\n",
    "    os.makedirs(output_path)\n",
    "video_to_frames(video_path, output_path)"
   ]
  },
  {
   "cell_type": "code",
   "execution_count": 4,
   "metadata": {},
   "outputs": [
    {
     "name": "stdout",
     "output_type": "stream",
     "text": [
      "Total frames: 275\n"
     ]
    }
   ],
   "source": [
    "video_path = \"Best way to do Rope Hammer Curls.mp4\"\n",
    "output_path = \"images/hammer curl\"\n",
    "if not os.path.exists(output_path):\n",
    "    os.makedirs(output_path)\n",
    "video_to_frames(video_path, output_path)"
   ]
  },
  {
   "cell_type": "code",
   "execution_count": 5,
   "metadata": {},
   "outputs": [
    {
     "name": "stdout",
     "output_type": "stream",
     "text": [
      "Total frames: 1513\n"
     ]
    }
   ],
   "source": [
    "video_path = \"How to do a proper dumbbell hammer curl!.mp4\"\n",
    "output_path = \"images/hammer curl\"\n",
    "if not os.path.exists(output_path):\n",
    "    os.makedirs(output_path)\n",
    "video_to_frames(video_path, output_path)"
   ]
  },
  {
   "cell_type": "code",
   "execution_count": 6,
   "metadata": {},
   "outputs": [
    {
     "name": "stdout",
     "output_type": "stream",
     "text": [
      "Total frames: 2200\n"
     ]
    }
   ],
   "source": [
    "video_path = \"Sırtını Geliştirirken Sakatlanma - Doğru Lat Pull Down.mp4\"\n",
    "output_path = \"images/lat pulldown\"\n",
    "if not os.path.exists(output_path):\n",
    "    os.makedirs(output_path)\n",
    "video_to_frames(video_path, output_path)"
   ]
  },
  {
   "cell_type": "code",
   "execution_count": 7,
   "metadata": {},
   "outputs": [
    {
     "name": "stdout",
     "output_type": "stream",
     "text": [
      "Total frames: 326\n"
     ]
    }
   ],
   "source": [
    "video_path = \"videoplayback.mp4\"\n",
    "output_path = \"images/lat pulldown\"\n",
    "if not os.path.exists(output_path):\n",
    "    os.makedirs(output_path)\n",
    "video_to_frames(video_path, output_path)"
   ]
  },
  {
   "cell_type": "code",
   "execution_count": 8,
   "metadata": {},
   "outputs": [
    {
     "name": "stdout",
     "output_type": "stream",
     "text": [
      "Total frames: 372\n"
     ]
    }
   ],
   "source": [
    "video_path = \"✅ Plank .mp4\"\n",
    "output_path = \"images/plank\"\n",
    "if not os.path.exists(output_path):\n",
    "    os.makedirs(output_path)\n",
    "video_to_frames(video_path, output_path)"
   ]
  },
  {
   "cell_type": "code",
   "execution_count": 9,
   "metadata": {},
   "outputs": [
    {
     "name": "stdout",
     "output_type": "stream",
     "text": [
      "Total frames: 857\n"
     ]
    }
   ],
   "source": [
    "video_path = \"NEVER Do Planks Like This (3 Fixes You Must Make).mp4\"\n",
    "output_path = \"images/plank\"\n",
    "if not os.path.exists(output_path):\n",
    "    os.makedirs(output_path)\n",
    "video_to_frames(video_path, output_path)"
   ]
  },
  {
   "cell_type": "code",
   "execution_count": 10,
   "metadata": {},
   "outputs": [
    {
     "name": "stdout",
     "output_type": "stream",
     "text": [
      "Total frames: 325\n"
     ]
    }
   ],
   "source": [
    "video_path = \"How to do a Push-Up .mp4\"\n",
    "output_path = \"images/push up\"\n",
    "if not os.path.exists(output_path):\n",
    "    os.makedirs(output_path)\n",
    "video_to_frames(video_path, output_path)"
   ]
  },
  {
   "cell_type": "code",
   "execution_count": 11,
   "metadata": {},
   "outputs": [
    {
     "name": "stdout",
     "output_type": "stream",
     "text": [
      "Total frames: 4214\n"
     ]
    }
   ],
   "source": [
    "video_path = \"Most Push-Ups in 1 MINUTE ! ( WORLD RECORD ).mp4\"\n",
    "output_path = \"images/push up\"\n",
    "if not os.path.exists(output_path):\n",
    "    os.makedirs(output_path)\n",
    "video_to_frames(video_path, output_path)"
   ]
  },
  {
   "cell_type": "code",
   "execution_count": null,
   "metadata": {},
   "outputs": [
    {
     "name": "stdout",
     "output_type": "stream",
     "text": [
      "[youtube] Extracting URL: https://www.youtube.com/watch?v=UIyZUHq2UdU\n",
      "[youtube] UIyZUHq2UdU: Downloading webpage\n",
      "[youtube] UIyZUHq2UdU: Downloading ios player API JSON\n",
      "[youtube] UIyZUHq2UdU: Downloading web creator player API JSON\n",
      "[youtube] UIyZUHq2UdU: Downloading m3u8 information\n",
      "[info] UIyZUHq2UdU: Downloading 1 format(s): 616+251\n",
      "[download] downloads\\How to run on a treadmill (improve your gait).mp4 has already been downloaded\n",
      "[VideoConvertor] Not converting media file \"downloads\\How to run on a treadmill (improve your gait).mp4\"; already is in target format mp4\n",
      "images/squat/https://www.youtube.com/watch?v.mp4\n",
      "Error opening video stream or file\n"
     ]
    },
    {
     "ename": "SystemExit",
     "evalue": "1",
     "output_type": "error",
     "traceback": [
      "An exception has occurred, use %tb to see the full traceback.\n",
      "\u001b[1;31mSystemExit\u001b[0m\u001b[1;31m:\u001b[0m 1\n"
     ]
    },
    {
     "name": "stderr",
     "output_type": "stream",
     "text": [
      "c:\\Users\\Samet\\anaconda3\\envs\\aiclub\\lib\\site-packages\\IPython\\core\\interactiveshell.py:3558: UserWarning: To exit: use 'exit', 'quit', or Ctrl-D.\n",
      "  warn(\"To exit: use 'exit', 'quit', or Ctrl-D.\", stacklevel=1)\n"
     ]
    }
   ],
   "source": [
    "download_and_split_video(\"https://www.youtube.com/watch?v=UIyZUHq2UdU\", \"images/squat\", download_path=\"downloads\",class_name=\"squat\")"
   ]
  }
 ],
 "metadata": {
  "kernelspec": {
   "display_name": "aiclub",
   "language": "python",
   "name": "python3"
  },
  "language_info": {
   "codemirror_mode": {
    "name": "ipython",
    "version": 3
   },
   "file_extension": ".py",
   "mimetype": "text/x-python",
   "name": "python",
   "nbconvert_exporter": "python",
   "pygments_lexer": "ipython3",
   "version": "3.9.19"
  }
 },
 "nbformat": 4,
 "nbformat_minor": 2
}
