{
 "cells": [
  {
   "cell_type": "code",
   "execution_count": 27,
   "metadata": {},
   "outputs": [],
   "source": [
    "# splitting videos into frames and save them in a folder\n",
    "import cv2\n",
    "import os\n",
    "import sys\n",
    "import random\n",
    "\n",
    "def video_to_frames(video_path, output_path, start_sec=0, end_sec=None):\n",
    "    # Create a VideoCapture object\n",
    "    cap = cv2.VideoCapture(video_path)\n",
    "    # Check if video opened successfully\n",
    "    if not cap.isOpened():\n",
    "        print(\"\")\n",
    "        print(video_path)\n",
    "        print(\"\")\n",
    "        print(\"Error opening video stream or file\")\n",
    "        sys.exit(1)\n",
    "\n",
    "    # convert seconds to frames\n",
    "    fps = cap.get(cv2.CAP_PROP_FPS)\n",
    "    start_frame = int(start_sec * fps)\n",
    "    end_frame = None\n",
    "    if end_sec is not None:\n",
    "        end_frame = int(end_sec * fps)\n",
    "\n",
    "    cap.set(cv2.CAP_PROP_POS_FRAMES, start_frame)\n",
    "    frame_count = 0\n",
    "    while cap.isOpened():\n",
    "        # Capture frame-by-frame\n",
    "        ret, frame = cap.read()\n",
    "        if ret:\n",
    "            # Save the frame\n",
    "            frame_count += 1\n",
    "            if start_frame > 0:\n",
    "                start_frame -= 1\n",
    "                continue\n",
    "            # randomly select the frame name with length 8\n",
    "            random_number = random.random()\n",
    "            frame_name  = os.path.join(output_path, f\"{random_number:.8f}.jpg\")\n",
    "            cv2.imwrite(frame_name, frame)\n",
    "            if frame_count == end_frame:\n",
    "                break\n",
    "        else:\n",
    "            break\n",
    "    print(f\"Total frames: {frame_count}\")\n",
    "\n",
    "\n",
    "    # When everything done, release the video capture object\n",
    "    cap.release()\n",
    "    # Closes all the frames\n",
    "    cv2.destroyAllWindows()\n"
   ]
  },
  {
   "cell_type": "code",
   "execution_count": 20,
   "metadata": {},
   "outputs": [],
   "source": [
    "import yt_dlp\n",
    "\n",
    "\n",
    "def download_video_simple(url, save_path=\"downloads\", class_name = \"plank\"):\n",
    "    \n",
    "    files = os.listdir(save_path)\n",
    "    count = 0\n",
    "    for i in range(len(files)):\n",
    "        if class_name == files[i].split(\".\")[0].split(\"_\")[0]:\n",
    "            count+= 1\n",
    "    count +=1\n",
    "\n",
    "    video_path = f\"{class_name}_{count}.mp4\"\n",
    "\n",
    "    ydl_opts = {\n",
    "        'format': 'bestvideo+bestaudio/best',\n",
    "        'outtmpl': os.path.join(save_path, video_path),\n",
    "        'merge_output_format': 'mp4',\n",
    "        'postprocessors': [{\n",
    "            'key': 'FFmpegVideoConvertor',\n",
    "            'preferedformat': 'mp4',\n",
    "        }],\n",
    "        'ffmpeg_location': r'C:/ffmpeg/bin',\n",
    "    }\n",
    "\n",
    "    try:\n",
    "        with yt_dlp.YoutubeDL(ydl_opts) as ydl:\n",
    "            ydl.download([url])\n",
    "            return os.path.join(save_path, video_path)\n",
    "    except Exception as e:\n",
    "        print(e)"
   ]
  },
  {
   "cell_type": "code",
   "execution_count": 21,
   "metadata": {},
   "outputs": [],
   "source": [
    "def download_and_split_video(url, output_path, start_sec=0, end_sec=None, download_path=\"downloads\",class_name=\"plank\"):\n",
    "    # name with count number and class name \n",
    "    video_path = download_video_simple(url, save_path=download_path, class_name=class_name)\n",
    "    # find count of files in the downloads path\n",
    "    print(video_path)\n",
    "    video_to_frames(video_path, output_path, start_sec, end_sec)\n",
    "    print(\"Done\")"
   ]
  },
  {
   "cell_type": "code",
   "execution_count": 22,
   "metadata": {},
   "outputs": [
    {
     "name": "stdout",
     "output_type": "stream",
     "text": [
      "[youtube] Extracting URL: https://www.youtube.com/shorts/VXjPjzEjRSU\n",
      "[youtube] VXjPjzEjRSU: Downloading webpage\n",
      "[youtube] VXjPjzEjRSU: Downloading ios player API JSON\n",
      "[youtube] VXjPjzEjRSU: Downloading web creator player API JSON\n",
      "[youtube] VXjPjzEjRSU: Downloading m3u8 information\n",
      "[info] VXjPjzEjRSU: Downloading 1 format(s): 248+251\n",
      "[download] Destination: downloads\\becnh press_6.f248.webm\n",
      "[download] 100% of    4.28MiB in 00:00:03 at 1.40MiB/s   \n",
      "[download] Destination: downloads\\becnh press_6.f251.webm\n",
      "[download] 100% of  242.62KiB in 00:00:00 at 1.31MiB/s   \n",
      "[Merger] Merging formats into \"downloads\\becnh press_6.mp4\"\n",
      "Deleting original file downloads\\becnh press_6.f248.webm (pass -k to keep)\n",
      "Deleting original file downloads\\becnh press_6.f251.webm (pass -k to keep)\n",
      "[VideoConvertor] Not converting media file \"downloads\\becnh press_6.mp4\"; already is in target format mp4\n",
      "downloads\\becnh press_6.mp4\n",
      "Total frames: 433\n",
      "Done\n"
     ]
    }
   ],
   "source": [
    "download_and_split_video(\"https://www.youtube.com/shorts/VXjPjzEjRSU\", \"deneme\", 0, None, \"downloads\", \"becnh press\")"
   ]
  },
  {
   "cell_type": "code",
   "execution_count": 24,
   "metadata": {},
   "outputs": [
    {
     "name": "stdout",
     "output_type": "stream",
     "text": [
      "[youtube] Extracting URL: https://www.youtube.com/shorts/MRmeUet5VUw\n",
      "[youtube] MRmeUet5VUw: Downloading webpage\n",
      "[youtube] MRmeUet5VUw: Downloading ios player API JSON\n",
      "[youtube] MRmeUet5VUw: Downloading web creator player API JSON\n",
      "[youtube] MRmeUet5VUw: Downloading m3u8 information\n",
      "[info] MRmeUet5VUw: Downloading 1 format(s): 248+251\n",
      "[download] Destination: downloads\\bench press_1.f248.webm\n",
      "[download] 100% of    1.69MiB in 00:00:00 at 1.70MiB/s   \n",
      "[download] Destination: downloads\\bench press_1.f251.webm\n",
      "[download] 100% of  137.46KiB in 00:00:00 at 235.46KiB/s \n",
      "[Merger] Merging formats into \"downloads\\bench press_1.mp4\"\n",
      "Deleting original file downloads\\bench press_1.f251.webm (pass -k to keep)\n",
      "Deleting original file downloads\\bench press_1.f248.webm (pass -k to keep)\n",
      "[VideoConvertor] Not converting media file \"downloads\\bench press_1.mp4\"; already is in target format mp4\n",
      "downloads\\bench press_1.mp4\n",
      "Total frames: 303\n",
      "Done\n"
     ]
    }
   ],
   "source": [
    "# https://www.youtube.com/shorts/MRmeUet5VUw\n",
    "download_and_split_video(\"https://www.youtube.com/shorts/MRmeUet5VUw\", \"validation_dataset/bench press\", 0, None, \"downloads\", \"bench press\")"
   ]
  },
  {
   "cell_type": "code",
   "execution_count": 25,
   "metadata": {},
   "outputs": [
    {
     "name": "stdout",
     "output_type": "stream",
     "text": [
      "[youtube] Extracting URL: https://www.youtube.com/shorts/FXniYg5m_P0\n",
      "[youtube] FXniYg5m_P0: Downloading webpage\n",
      "[youtube] FXniYg5m_P0: Downloading ios player API JSON\n",
      "[youtube] FXniYg5m_P0: Downloading web creator player API JSON\n",
      "[youtube] FXniYg5m_P0: Downloading m3u8 information\n",
      "[info] FXniYg5m_P0: Downloading 1 format(s): 335+251\n",
      "[download] Destination: downloads\\bench press_2.f335.webm\n",
      "[download] 100% of    5.32MiB in 00:00:04 at 1.32MiB/s   \n",
      "[download] Destination: downloads\\bench press_2.f251.webm\n",
      "[download] 100% of  157.74KiB in 00:00:00 at 440.38KiB/s \n",
      "[Merger] Merging formats into \"downloads\\bench press_2.mp4\"\n",
      "Deleting original file downloads\\bench press_2.f335.webm (pass -k to keep)\n",
      "Deleting original file downloads\\bench press_2.f251.webm (pass -k to keep)\n",
      "[VideoConvertor] Not converting media file \"downloads\\bench press_2.mp4\"; already is in target format mp4\n",
      "downloads\\bench press_2.mp4\n",
      "Total frames: 327\n",
      "Done\n"
     ]
    }
   ],
   "source": [
    "# https://www.youtube.com/shorts/FXniYg5m_P0\n",
    "download_and_split_video(\"https://www.youtube.com/shorts/FXniYg5m_P0\", \"validation_dataset/bench press\", 0, None, \"downloads\", \"bench press\")"
   ]
  },
  {
   "cell_type": "code",
   "execution_count": 26,
   "metadata": {},
   "outputs": [
    {
     "name": "stdout",
     "output_type": "stream",
     "text": [
      "[youtube] Extracting URL: https://www.youtube.com/shorts/5s4_yeSC5C0\n",
      "[youtube] 5s4_yeSC5C0: Downloading webpage\n",
      "[youtube] 5s4_yeSC5C0: Downloading ios player API JSON\n",
      "[youtube] 5s4_yeSC5C0: Downloading web creator player API JSON\n",
      "[youtube] 5s4_yeSC5C0: Downloading m3u8 information\n",
      "[info] 5s4_yeSC5C0: Downloading 1 format(s): 248+251\n",
      "[download] Destination: downloads\\bench press_3.f248.webm\n",
      "[download] 100% of    1.40MiB in 00:00:00 at 1.75MiB/s   \n",
      "[download] Destination: downloads\\bench press_3.f251.webm\n",
      "[download] 100% of  180.03KiB in 00:00:00 at 400.63KiB/s \n",
      "[Merger] Merging formats into \"downloads\\bench press_3.mp4\"\n",
      "Deleting original file downloads\\bench press_3.f248.webm (pass -k to keep)\n",
      "Deleting original file downloads\\bench press_3.f251.webm (pass -k to keep)\n",
      "[VideoConvertor] Not converting media file \"downloads\\bench press_3.mp4\"; already is in target format mp4\n",
      "downloads\\bench press_3.mp4\n",
      "Total frames: 209\n",
      "Done\n"
     ]
    }
   ],
   "source": [
    "# https://www.youtube.com/shorts/5s4_yeSC5C0\n",
    "\n",
    "download_and_split_video(\"https://www.youtube.com/shorts/5s4_yeSC5C0\", \"validation_dataset/bench press\", 4, 7, \"downloads\", \"bench press\")"
   ]
  },
  {
   "cell_type": "code",
   "execution_count": 28,
   "metadata": {},
   "outputs": [
    {
     "name": "stdout",
     "output_type": "stream",
     "text": [
      "[youtube] Extracting URL: https://www.youtube.com/shorts/efsaFjYdaqQ\n",
      "[youtube] efsaFjYdaqQ: Downloading webpage\n",
      "[youtube] efsaFjYdaqQ: Downloading ios player API JSON\n",
      "[youtube] efsaFjYdaqQ: Downloading web creator player API JSON\n",
      "[youtube] efsaFjYdaqQ: Downloading m3u8 information\n",
      "[info] efsaFjYdaqQ: Downloading 1 format(s): 247+251\n",
      "[download] Destination: downloads\\hammer curl_1.f247.webm\n",
      "[download] 100% of    1.41MiB in 00:00:01 at 1.34MiB/s   \n",
      "[download] Destination: downloads\\hammer curl_1.f251.webm\n",
      "[download] 100% of  177.21KiB in 00:00:00 at 235.15KiB/s \n",
      "[Merger] Merging formats into \"downloads\\hammer curl_1.mp4\"\n",
      "Deleting original file downloads\\hammer curl_1.f251.webm (pass -k to keep)\n",
      "Deleting original file downloads\\hammer curl_1.f247.webm (pass -k to keep)\n",
      "[VideoConvertor] Not converting media file \"downloads\\hammer curl_1.mp4\"; already is in target format mp4\n",
      "downloads\\hammer curl_1.mp4\n",
      "Total frames: 310\n",
      "Done\n"
     ]
    }
   ],
   "source": [
    "# https://www.youtube.com/shorts/efsaFjYdaqQ\n",
    "# hammer curl\n",
    "download_and_split_video(\"https://www.youtube.com/shorts/efsaFjYdaqQ\", \"validation_dataset/hammer curl\", 0, None, \"downloads\", \"hammer curl\")"
   ]
  },
  {
   "cell_type": "code",
   "execution_count": 29,
   "metadata": {},
   "outputs": [
    {
     "name": "stdout",
     "output_type": "stream",
     "text": [
      "[youtube] Extracting URL: https://www.youtube.com/shorts/MCC0Wj9RErI\n",
      "[youtube] MCC0Wj9RErI: Downloading webpage\n",
      "[youtube] MCC0Wj9RErI: Downloading ios player API JSON\n",
      "[youtube] MCC0Wj9RErI: Downloading web creator player API JSON\n",
      "[youtube] MCC0Wj9RErI: Downloading m3u8 information\n",
      "[info] MCC0Wj9RErI: Downloading 1 format(s): 616+251\n",
      "[hlsnative] Downloading m3u8 manifest\n",
      "[hlsnative] Total fragments: 3\n",
      "[download] Destination: downloads\\hammer curl_2.f616.mp4\n",
      "[download] 100% of    4.54MiB in 00:00:03 at 1.51MiB/s                 \n",
      "[download] Destination: downloads\\hammer curl_2.f251.webm\n",
      "[download] 100% of  262.71KiB in 00:00:00 at 649.41KiB/s \n",
      "[Merger] Merging formats into \"downloads\\hammer curl_2.mp4\"\n",
      "Deleting original file downloads\\hammer curl_2.f616.mp4 (pass -k to keep)\n",
      "Deleting original file downloads\\hammer curl_2.f251.webm (pass -k to keep)\n",
      "[VideoConvertor] Not converting media file \"downloads\\hammer curl_2.mp4\"; already is in target format mp4\n",
      "downloads\\hammer curl_2.mp4\n",
      "Total frames: 387\n",
      "Done\n"
     ]
    }
   ],
   "source": [
    "# https://www.youtube.com/shorts/MCC0Wj9RErI\n",
    "# hammer curl\n",
    "download_and_split_video(\"https://www.youtube.com/shorts/MCC0Wj9RErI\", \"validation_dataset/hammer curl\", 0, None, \"downloads\", \"hammer curl\")"
   ]
  },
  {
   "cell_type": "code",
   "execution_count": 30,
   "metadata": {},
   "outputs": [
    {
     "name": "stdout",
     "output_type": "stream",
     "text": [
      "[youtube] Extracting URL: https://www.youtube.com/shorts/HTtd5uMFVz8\n",
      "[youtube] HTtd5uMFVz8: Downloading webpage\n",
      "[youtube] HTtd5uMFVz8: Downloading ios player API JSON\n",
      "[youtube] HTtd5uMFVz8: Downloading web creator player API JSON\n",
      "[youtube] HTtd5uMFVz8: Downloading m3u8 information\n",
      "[info] HTtd5uMFVz8: Downloading 1 format(s): 248+251\n",
      "[download] Destination: downloads\\hammer curl_3.f248.webm\n",
      "[download] 100% of    2.22MiB in 00:00:01 at 1.45MiB/s   \n",
      "[download] Destination: downloads\\hammer curl_3.f251.webm\n",
      "[download] 100% of  185.38KiB in 00:00:00 at 448.06KiB/s \n",
      "[Merger] Merging formats into \"downloads\\hammer curl_3.mp4\"\n",
      "Deleting original file downloads\\hammer curl_3.f251.webm (pass -k to keep)\n",
      "Deleting original file downloads\\hammer curl_3.f248.webm (pass -k to keep)\n",
      "[VideoConvertor] Not converting media file \"downloads\\hammer curl_3.mp4\"; already is in target format mp4\n",
      "downloads\\hammer curl_3.mp4\n",
      "Total frames: 275\n",
      "Done\n"
     ]
    }
   ],
   "source": [
    "# https://www.youtube.com/shorts/HTtd5uMFVz8\n",
    "# hammer curl\n",
    "download_and_split_video(\"https://www.youtube.com/shorts/HTtd5uMFVz8\", \"validation_dataset/hammer curl\", 0, None, \"downloads\", \"hammer curl\")"
   ]
  },
  {
   "cell_type": "code",
   "execution_count": 31,
   "metadata": {},
   "outputs": [
    {
     "name": "stdout",
     "output_type": "stream",
     "text": [
      "[youtube] Extracting URL: https://www.youtube.com/watch?v=EUIri47Epcg\n",
      "[youtube] EUIri47Epcg: Downloading webpage\n",
      "[youtube] EUIri47Epcg: Downloading ios player API JSON\n",
      "[youtube] EUIri47Epcg: Downloading web creator player API JSON\n",
      "[youtube] EUIri47Epcg: Downloading m3u8 information\n",
      "[info] EUIri47Epcg: Downloading 1 format(s): 248+251\n",
      "[download] Destination: downloads\\lat pulldown_1.f248.webm\n",
      "[download] 100% of    4.17MiB in 00:00:01 at 2.54MiB/s   \n",
      "[download] Destination: downloads\\lat pulldown_1.f251.webm\n",
      "[download] 100% of  136.05KiB in 00:00:00 at 355.89KiB/s \n",
      "[Merger] Merging formats into \"downloads\\lat pulldown_1.mp4\"\n",
      "Deleting original file downloads\\lat pulldown_1.f248.webm (pass -k to keep)\n",
      "Deleting original file downloads\\lat pulldown_1.f251.webm (pass -k to keep)\n",
      "[VideoConvertor] Not converting media file \"downloads\\lat pulldown_1.mp4\"; already is in target format mp4\n",
      "downloads\\lat pulldown_1.mp4\n",
      "Total frames: 342\n",
      "Done\n"
     ]
    }
   ],
   "source": [
    "# https://www.youtube.com/watch?v=EUIri47Epcg\n",
    "# lat pulldown\n",
    "download_and_split_video(\"https://www.youtube.com/watch?v=EUIri47Epcg\", \"validation_dataset/lat pulldown\", 0, None, \"downloads\", \"lat pulldown\")"
   ]
  },
  {
   "cell_type": "code",
   "execution_count": 32,
   "metadata": {},
   "outputs": [
    {
     "name": "stdout",
     "output_type": "stream",
     "text": [
      "[youtube] Extracting URL: https://www.youtube.com/shorts/8d6d46pGdQM\n",
      "[youtube] 8d6d46pGdQM: Downloading webpage\n",
      "[youtube] 8d6d46pGdQM: Downloading ios player API JSON\n",
      "[youtube] 8d6d46pGdQM: Downloading web creator player API JSON\n",
      "[youtube] 8d6d46pGdQM: Downloading m3u8 information\n",
      "[info] 8d6d46pGdQM: Downloading 1 format(s): 248+251\n",
      "[download] Destination: downloads\\lat pulldown_2.f248.webm\n",
      "[download] 100% of    2.87MiB in 00:00:01 at 2.33MiB/s   \n",
      "[download] Destination: downloads\\lat pulldown_2.f251.webm\n",
      "[download] 100% of  192.28KiB in 00:00:00 at 298.51KiB/s \n",
      "[Merger] Merging formats into \"downloads\\lat pulldown_2.mp4\"\n",
      "Deleting original file downloads\\lat pulldown_2.f251.webm (pass -k to keep)\n",
      "Deleting original file downloads\\lat pulldown_2.f248.webm (pass -k to keep)\n",
      "[VideoConvertor] Not converting media file \"downloads\\lat pulldown_2.mp4\"; already is in target format mp4\n",
      "downloads\\lat pulldown_2.mp4\n",
      "Total frames: 283\n",
      "Done\n"
     ]
    }
   ],
   "source": [
    "# https://www.youtube.com/shorts/8d6d46pGdQM\n",
    "# lat pulldown\n",
    "download_and_split_video(\"https://www.youtube.com/shorts/8d6d46pGdQM\", \"validation_dataset/lat pulldown\", 0, None, \"downloads\", \"lat pulldown\") "
   ]
  },
  {
   "cell_type": "code",
   "execution_count": 33,
   "metadata": {},
   "outputs": [
    {
     "name": "stdout",
     "output_type": "stream",
     "text": [
      "[youtube] Extracting URL: https://www.youtube.com/shorts/_Y_4VAXE3Vo\n",
      "[youtube] _Y_4VAXE3Vo: Downloading webpage\n",
      "[youtube] _Y_4VAXE3Vo: Downloading ios player API JSON\n",
      "[youtube] _Y_4VAXE3Vo: Downloading web creator player API JSON\n",
      "[youtube] _Y_4VAXE3Vo: Downloading m3u8 information\n",
      "[info] _Y_4VAXE3Vo: Downloading 1 format(s): 313+251\n",
      "[download] Destination: downloads\\lat pulldown_3.f313.webm\n",
      "[download] 100% of    9.70MiB in 00:00:04 at 2.38MiB/s   \n",
      "[download] Destination: downloads\\lat pulldown_3.f251.webm\n",
      "[download] 100% of  303.60KiB in 00:00:00 at 768.53KiB/s \n",
      "[Merger] Merging formats into \"downloads\\lat pulldown_3.mp4\"\n",
      "Deleting original file downloads\\lat pulldown_3.f251.webm (pass -k to keep)\n",
      "Deleting original file downloads\\lat pulldown_3.f313.webm (pass -k to keep)\n",
      "[VideoConvertor] Not converting media file \"downloads\\lat pulldown_3.mp4\"; already is in target format mp4\n",
      "downloads\\lat pulldown_3.mp4\n",
      "Total frames: 615\n",
      "Done\n"
     ]
    }
   ],
   "source": [
    "# https://www.youtube.com/shorts/_Y_4VAXE3Vo\n",
    "# lat pulldown\n",
    "download_and_split_video(\"https://www.youtube.com/shorts/_Y_4VAXE3Vo\", \"validation_dataset/lat pulldown\", 0, None, \"downloads\", \"lat pulldown\")"
   ]
  },
  {
   "cell_type": "code",
   "execution_count": 34,
   "metadata": {},
   "outputs": [
    {
     "name": "stdout",
     "output_type": "stream",
     "text": [
      "[youtube] Extracting URL: https://www.youtube.com/shorts/xBgx4kbNdTQ\n",
      "[youtube] xBgx4kbNdTQ: Downloading webpage\n",
      "[youtube] xBgx4kbNdTQ: Downloading ios player API JSON\n",
      "[youtube] xBgx4kbNdTQ: Downloading web creator player API JSON\n",
      "[youtube] xBgx4kbNdTQ: Downloading m3u8 information\n",
      "[info] xBgx4kbNdTQ: Downloading 1 format(s): 248+251\n",
      "[download] Destination: downloads\\plank_1.f248.webm\n",
      "[download] 100% of    3.99MiB in 00:00:00 at 4.94MiB/s   \n",
      "[download] Destination: downloads\\plank_1.f251.webm\n",
      "[download] 100% of  321.68KiB in 00:00:00 at 445.69KiB/s \n",
      "[Merger] Merging formats into \"downloads\\plank_1.mp4\"\n",
      "Deleting original file downloads\\plank_1.f248.webm (pass -k to keep)\n",
      "Deleting original file downloads\\plank_1.f251.webm (pass -k to keep)\n",
      "[VideoConvertor] Not converting media file \"downloads\\plank_1.mp4\"; already is in target format mp4\n",
      "downloads\\plank_1.mp4\n",
      "Total frames: 360\n",
      "Done\n"
     ]
    }
   ],
   "source": [
    "# https://www.youtube.com/shorts/xBgx4kbNdTQ\n",
    "# plank\n",
    "download_and_split_video(\"https://www.youtube.com/shorts/xBgx4kbNdTQ\", \"validation_dataset/plank\", 0, 12, \"downloads\", \"plank\")"
   ]
  },
  {
   "cell_type": "code",
   "execution_count": 35,
   "metadata": {},
   "outputs": [
    {
     "name": "stdout",
     "output_type": "stream",
     "text": [
      "[youtube] Extracting URL: https://www.youtube.com/shorts/Gd4klGtoJx0\n",
      "[youtube] Gd4klGtoJx0: Downloading webpage\n",
      "[youtube] Gd4klGtoJx0: Downloading ios player API JSON\n",
      "[youtube] Gd4klGtoJx0: Downloading web creator player API JSON\n",
      "[youtube] Gd4klGtoJx0: Downloading m3u8 information\n",
      "[info] Gd4klGtoJx0: Downloading 1 format(s): 248+251\n",
      "[download] Destination: downloads\\plank_2.f248.webm\n",
      "[download] 100% of    1.63MiB in 00:00:00 at 1.94MiB/s   \n",
      "[download] Destination: downloads\\plank_2.f251.webm\n",
      "[download] 100% of  329.43KiB in 00:00:01 at 296.77KiB/s \n",
      "[Merger] Merging formats into \"downloads\\plank_2.mp4\"\n",
      "Deleting original file downloads\\plank_2.f248.webm (pass -k to keep)\n",
      "Deleting original file downloads\\plank_2.f251.webm (pass -k to keep)\n",
      "[VideoConvertor] Not converting media file \"downloads\\plank_2.mp4\"; already is in target format mp4\n",
      "downloads\\plank_2.mp4\n",
      "Total frames: 90\n",
      "Done\n"
     ]
    }
   ],
   "source": [
    "# https://www.youtube.com/shorts/Gd4klGtoJx0\n",
    "# plank\n",
    "download_and_split_video(\"https://www.youtube.com/shorts/Gd4klGtoJx0\", \"validation_dataset/plank\", 0, 3, \"downloads\", \"plank\")"
   ]
  },
  {
   "cell_type": "code",
   "execution_count": 36,
   "metadata": {},
   "outputs": [
    {
     "name": "stdout",
     "output_type": "stream",
     "text": [
      "[youtube] Extracting URL: https://www.youtube.com/shorts/5aHCbm9RGKc\n",
      "[youtube] 5aHCbm9RGKc: Downloading webpage\n",
      "[youtube] 5aHCbm9RGKc: Downloading ios player API JSON\n",
      "[youtube] 5aHCbm9RGKc: Downloading web creator player API JSON\n",
      "[youtube] 5aHCbm9RGKc: Downloading m3u8 information\n",
      "[info] 5aHCbm9RGKc: Downloading 1 format(s): 248+251\n",
      "[download] Destination: downloads\\plank_3.f248.webm\n",
      "[download] 100% of  981.31KiB in 00:00:00 at 2.97MiB/s   \n",
      "[download] Destination: downloads\\plank_3.f251.webm\n",
      "[download] 100% of  223.11KiB in 00:00:00 at 303.86KiB/s \n",
      "[Merger] Merging formats into \"downloads\\plank_3.mp4\"\n",
      "Deleting original file downloads\\plank_3.f251.webm (pass -k to keep)\n",
      "Deleting original file downloads\\plank_3.f248.webm (pass -k to keep)\n",
      "[VideoConvertor] Not converting media file \"downloads\\plank_3.mp4\"; already is in target format mp4\n",
      "downloads\\plank_3.mp4\n",
      "Total frames: 343\n",
      "Done\n"
     ]
    }
   ],
   "source": [
    "# https://www.youtube.com/shorts/5aHCbm9RGKc\n",
    "# plank\n",
    "download_and_split_video(\"https://www.youtube.com/shorts/5aHCbm9RGKc\", \"validation_dataset/plank\", 2, None, \"downloads\", \"plank\")"
   ]
  },
  {
   "cell_type": "code",
   "execution_count": 37,
   "metadata": {},
   "outputs": [
    {
     "name": "stdout",
     "output_type": "stream",
     "text": [
      "[youtube] Extracting URL: https://www.youtube.com/shorts/UQ78pw0WNZI\n",
      "[youtube] UQ78pw0WNZI: Downloading webpage\n",
      "[youtube] UQ78pw0WNZI: Downloading ios player API JSON\n",
      "[youtube] UQ78pw0WNZI: Downloading web creator player API JSON\n",
      "[youtube] UQ78pw0WNZI: Downloading m3u8 information\n",
      "[info] UQ78pw0WNZI: Downloading 1 format(s): 247+251\n",
      "[download] Destination: downloads\\plank_4.f247.webm\n",
      "[download] 100% of    2.12MiB in 00:00:00 at 4.03MiB/s   \n",
      "[download] Destination: downloads\\plank_4.f251.webm\n",
      "[download] 100% of  326.73KiB in 00:00:00 at 395.17KiB/s \n",
      "[Merger] Merging formats into \"downloads\\plank_4.mp4\"\n",
      "Deleting original file downloads\\plank_4.f251.webm (pass -k to keep)\n",
      "Deleting original file downloads\\plank_4.f247.webm (pass -k to keep)\n",
      "[VideoConvertor] Not converting media file \"downloads\\plank_4.mp4\"; already is in target format mp4\n",
      "downloads\\plank_4.mp4\n",
      "Total frames: 165\n",
      "Done\n"
     ]
    }
   ],
   "source": [
    "# https://www.youtube.com/shorts/UQ78pw0WNZI\n",
    "# plank \n",
    "download_and_split_video(\"https://www.youtube.com/shorts/UQ78pw0WNZI\", \"validation_dataset/plank\", 15, None, \"downloads\", \"plank\")"
   ]
  },
  {
   "cell_type": "code",
   "execution_count": 38,
   "metadata": {},
   "outputs": [
    {
     "name": "stdout",
     "output_type": "stream",
     "text": [
      "[youtube] Extracting URL: https://www.youtube.com/shorts/NKRl7wLXtyk\n",
      "[youtube] NKRl7wLXtyk: Downloading webpage\n",
      "[youtube] NKRl7wLXtyk: Downloading ios player API JSON\n",
      "[youtube] NKRl7wLXtyk: Downloading web creator player API JSON\n",
      "[youtube] NKRl7wLXtyk: Downloading m3u8 information\n",
      "[info] NKRl7wLXtyk: Downloading 1 format(s): 248+251\n",
      "[download] Destination: downloads\\push up_1.f248.webm\n",
      "[download] 100% of    1.95MiB in 00:00:00 at 11.34MiB/s  \n",
      "[download] Destination: downloads\\push up_1.f251.webm\n",
      "[download] 100% of  121.59KiB in 00:00:00 at 603.85KiB/s \n",
      "[Merger] Merging formats into \"downloads\\push up_1.mp4\"\n",
      "Deleting original file downloads\\push up_1.f248.webm (pass -k to keep)\n",
      "Deleting original file downloads\\push up_1.f251.webm (pass -k to keep)\n",
      "[VideoConvertor] Not converting media file \"downloads\\push up_1.mp4\"; already is in target format mp4\n",
      "downloads\\push up_1.mp4\n",
      "Total frames: 171\n",
      "Done\n"
     ]
    }
   ],
   "source": [
    "# https://www.youtube.com/shorts/NKRl7wLXtyk\n",
    "# push up\n",
    "download_and_split_video(\"https://www.youtube.com/shorts/NKRl7wLXtyk\", \"validation_dataset/push up\", 4, None, \"downloads\", \"push up\")"
   ]
  },
  {
   "cell_type": "code",
   "execution_count": 39,
   "metadata": {},
   "outputs": [
    {
     "name": "stdout",
     "output_type": "stream",
     "text": [
      "[youtube] Extracting URL: https://www.youtube.com/shorts/4hTs1-R8Hxs\n",
      "[youtube] 4hTs1-R8Hxs: Downloading webpage\n",
      "[youtube] 4hTs1-R8Hxs: Downloading ios player API JSON\n",
      "[youtube] 4hTs1-R8Hxs: Downloading web creator player API JSON\n",
      "[youtube] 4hTs1-R8Hxs: Downloading m3u8 information\n",
      "[info] 4hTs1-R8Hxs: Downloading 1 format(s): 616+251\n",
      "[hlsnative] Downloading m3u8 manifest\n",
      "[hlsnative] Total fragments: 2\n",
      "[download] Destination: downloads\\push up_2.f616.mp4\n",
      "[download] 100% of    1.31MiB in 00:00:00 at 2.21MiB/s                 \n",
      "[download] Destination: downloads\\push up_2.f251.webm\n",
      "[download] 100% of  147.71KiB in 00:00:00 at 1.48MiB/s   \n",
      "[Merger] Merging formats into \"downloads\\push up_2.mp4\"\n",
      "Deleting original file downloads\\push up_2.f616.mp4 (pass -k to keep)\n",
      "Deleting original file downloads\\push up_2.f251.webm (pass -k to keep)\n",
      "[VideoConvertor] Not converting media file \"downloads\\push up_2.mp4\"; already is in target format mp4\n",
      "downloads\\push up_2.mp4\n",
      "Total frames: 274\n",
      "Done\n"
     ]
    }
   ],
   "source": [
    "# https://www.youtube.com/shorts/4hTs1-R8Hxs\n",
    "# push up\n",
    "download_and_split_video(\"https://www.youtube.com/shorts/4hTs1-R8Hxs\", \"validation_dataset/push up\", 0, None, \"downloads\", \"push up\")   "
   ]
  },
  {
   "cell_type": "code",
   "execution_count": 40,
   "metadata": {},
   "outputs": [
    {
     "name": "stdout",
     "output_type": "stream",
     "text": [
      "[youtube] Extracting URL: https://www.youtube.com/shorts/-ftdaiVA2DQ\n",
      "[youtube] -ftdaiVA2DQ: Downloading webpage\n",
      "[youtube] -ftdaiVA2DQ: Downloading ios player API JSON\n",
      "[youtube] -ftdaiVA2DQ: Downloading web creator player API JSON\n",
      "[youtube] -ftdaiVA2DQ: Downloading m3u8 information\n",
      "[info] -ftdaiVA2DQ: Downloading 1 format(s): 247+251\n",
      "[download] Destination: downloads\\push up_3.f247.webm\n",
      "[download] 100% of    4.42MiB in 00:00:00 at 8.62MiB/s   \n",
      "[download] Destination: downloads\\push up_3.f251.webm\n",
      "[download] 100% of  928.75KiB in 00:00:00 at 1.21MiB/s   \n",
      "[Merger] Merging formats into \"downloads\\push up_3.mp4\"\n",
      "Deleting original file downloads\\push up_3.f251.webm (pass -k to keep)\n",
      "Deleting original file downloads\\push up_3.f247.webm (pass -k to keep)\n",
      "[VideoConvertor] Not converting media file \"downloads\\push up_3.mp4\"; already is in target format mp4\n",
      "downloads\\push up_3.mp4\n",
      "Total frames: 1800\n",
      "Done\n"
     ]
    }
   ],
   "source": [
    "# https://www.youtube.com/shorts/-ftdaiVA2DQ\n",
    "# push up\n",
    "download_and_split_video(\"https://www.youtube.com/shorts/-ftdaiVA2DQ\", \"validation_dataset/push up\", 0, None, \"downloads\", \"push up\")"
   ]
  },
  {
   "cell_type": "code",
   "execution_count": 41,
   "metadata": {},
   "outputs": [
    {
     "name": "stdout",
     "output_type": "stream",
     "text": [
      "[youtube] Extracting URL: https://www.youtube.com/shorts/sTTt2Lk6jhs\n",
      "[youtube] sTTt2Lk6jhs: Downloading webpage\n",
      "[youtube] sTTt2Lk6jhs: Downloading ios player API JSON\n",
      "[youtube] sTTt2Lk6jhs: Downloading web creator player API JSON\n",
      "[youtube] sTTt2Lk6jhs: Downloading m3u8 information\n",
      "[info] sTTt2Lk6jhs: Downloading 1 format(s): 247+251\n",
      "[download] Destination: downloads\\push up_4.f247.webm\n",
      "[download] 100% of    3.57MiB in 00:00:00 at 6.70MiB/s   \n",
      "[download] Destination: downloads\\push up_4.f251.webm\n",
      "[download] 100% of  426.72KiB in 00:00:00 at 1.19MiB/s   \n",
      "[Merger] Merging formats into \"downloads\\push up_4.mp4\"\n",
      "Deleting original file downloads\\push up_4.f251.webm (pass -k to keep)\n",
      "Deleting original file downloads\\push up_4.f247.webm (pass -k to keep)\n",
      "[VideoConvertor] Not converting media file \"downloads\\push up_4.mp4\"; already is in target format mp4\n",
      "downloads\\push up_4.mp4\n",
      "Total frames: 745\n",
      "Done\n"
     ]
    }
   ],
   "source": [
    "# https://www.youtube.com/shorts/sTTt2Lk6jhs\n",
    "# push up\n",
    "download_and_split_video(\"https://www.youtube.com/shorts/sTTt2Lk6jhs\", \"images/push up\", 0, None, \"downloads\", \"push up\")"
   ]
  },
  {
   "cell_type": "code",
   "execution_count": 42,
   "metadata": {},
   "outputs": [
    {
     "name": "stdout",
     "output_type": "stream",
     "text": [
      "[youtube] Extracting URL: https://www.youtube.com/watch?v=qEmznUhN6IE\n",
      "[youtube] qEmznUhN6IE: Downloading webpage\n",
      "[youtube] qEmznUhN6IE: Downloading ios player API JSON\n",
      "[youtube] qEmznUhN6IE: Downloading web creator player API JSON\n",
      "[youtube] qEmznUhN6IE: Downloading m3u8 information\n",
      "[info] qEmznUhN6IE: Downloading 1 format(s): 616+251\n",
      "[hlsnative] Downloading m3u8 manifest\n",
      "[hlsnative] Total fragments: 69\n",
      "[download] Destination: downloads\\push up_5.f616.mp4\n",
      "[download] 100% of   81.44MiB in 00:00:27 at 2.95MiB/s                  \n",
      "[download] Destination: downloads\\push up_5.f251.webm\n",
      "[download] 100% of    6.39MiB in 00:00:00 at 11.84MiB/s  \n",
      "[Merger] Merging formats into \"downloads\\push up_5.mp4\"\n",
      "Deleting original file downloads\\push up_5.f251.webm (pass -k to keep)\n",
      "Deleting original file downloads\\push up_5.f616.mp4 (pass -k to keep)\n",
      "[VideoConvertor] Not converting media file \"downloads\\push up_5.mp4\"; already is in target format mp4\n",
      "downloads\\push up_5.mp4\n",
      "Total frames: 11130\n",
      "Done\n"
     ]
    }
   ],
   "source": [
    "# https://www.youtube.com/watch?v=qEmznUhN6IE\n",
    "# push up\n",
    "download_and_split_video(\"https://www.youtube.com/watch?v=qEmznUhN6IE\", \"images/push up\", 0, None, \"downloads\", \"push up\")"
   ]
  },
  {
   "cell_type": "code",
   "execution_count": 43,
   "metadata": {},
   "outputs": [
    {
     "name": "stdout",
     "output_type": "stream",
     "text": [
      "[youtube] Extracting URL: https://www.youtube.com/watch?v=bQolznsOqTk\n",
      "[youtube] bQolznsOqTk: Downloading webpage\n",
      "[youtube] bQolznsOqTk: Downloading ios player API JSON\n",
      "[youtube] bQolznsOqTk: Downloading web creator player API JSON\n",
      "[youtube] bQolznsOqTk: Downloading m3u8 information\n",
      "[info] bQolznsOqTk: Downloading 1 format(s): 247+251\n",
      "[download] Destination: downloads\\push up_6.f247.webm\n",
      "[download] 100% of    3.38MiB in 00:00:00 at 9.42MiB/s   \n",
      "[download] Destination: downloads\\push up_6.f251.webm\n",
      "[download] 100% of  335.89KiB in 00:00:00 at 2.63MiB/s   \n",
      "[Merger] Merging formats into \"downloads\\push up_6.mp4\"\n",
      "Deleting original file downloads\\push up_6.f247.webm (pass -k to keep)\n",
      "Deleting original file downloads\\push up_6.f251.webm (pass -k to keep)\n",
      "[VideoConvertor] Not converting media file \"downloads\\push up_6.mp4\"; already is in target format mp4\n",
      "downloads\\push up_6.mp4\n",
      "Total frames: 509\n",
      "Done\n"
     ]
    }
   ],
   "source": [
    "# https://www.youtube.com/watch?v=bQolznsOqTk\n",
    "# push up\n",
    "download_and_split_video(\"https://www.youtube.com/watch?v=bQolznsOqTk\", \"validation_dataset/push up\", 0, None, \"downloads\", \"push up\")"
   ]
  },
  {
   "cell_type": "code",
   "execution_count": null,
   "metadata": {},
   "outputs": [],
   "source": []
  }
 ],
 "metadata": {
  "kernelspec": {
   "display_name": "aiclub",
   "language": "python",
   "name": "python3"
  },
  "language_info": {
   "codemirror_mode": {
    "name": "ipython",
    "version": 3
   },
   "file_extension": ".py",
   "mimetype": "text/x-python",
   "name": "python",
   "nbconvert_exporter": "python",
   "pygments_lexer": "ipython3",
   "version": "3.9.19"
  }
 },
 "nbformat": 4,
 "nbformat_minor": 2
}
