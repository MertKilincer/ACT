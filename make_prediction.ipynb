{
 "cells": [
  {
   "cell_type": "code",
   "execution_count": 26,
   "metadata": {},
   "outputs": [
    {
     "data": {
      "text/html": [
       "<div>\n",
       "<style scoped>\n",
       "    .dataframe tbody tr th:only-of-type {\n",
       "        vertical-align: middle;\n",
       "    }\n",
       "\n",
       "    .dataframe tbody tr th {\n",
       "        vertical-align: top;\n",
       "    }\n",
       "\n",
       "    .dataframe thead th {\n",
       "        text-align: right;\n",
       "    }\n",
       "</style>\n",
       "<table border=\"1\" class=\"dataframe\">\n",
       "  <thead>\n",
       "    <tr style=\"text-align: right;\">\n",
       "      <th></th>\n",
       "      <th>Image</th>\n",
       "      <th>Left Shoulder-Left Elbow-Left Wrist</th>\n",
       "      <th>Right Shoulder-Right Elbow-Right Wrist</th>\n",
       "      <th>Left Shoulder-Left Hip-Left Knee</th>\n",
       "      <th>Right Shoulder-Right Hip-Right Knee</th>\n",
       "      <th>Left Elbow-Left Shoulder-Left Hip</th>\n",
       "      <th>Right Elbow-Right Shoulder-Right Hip</th>\n",
       "      <th>Left Hip-Left Knee-Left Ankle</th>\n",
       "      <th>Right Hip-Right Knee-Right Ankle</th>\n",
       "      <th>Nose-Left Eye_distance</th>\n",
       "      <th>...</th>\n",
       "      <th>Right Hip_position_x</th>\n",
       "      <th>Left Knee_position_y</th>\n",
       "      <th>Left Knee_position_x</th>\n",
       "      <th>Right Knee_position_y</th>\n",
       "      <th>Right Knee_position_x</th>\n",
       "      <th>Left Ankle_position_y</th>\n",
       "      <th>Left Ankle_position_x</th>\n",
       "      <th>Right Ankle_position_y</th>\n",
       "      <th>Right Ankle_position_x</th>\n",
       "      <th>Label</th>\n",
       "    </tr>\n",
       "  </thead>\n",
       "  <tbody>\n",
       "    <tr>\n",
       "      <th>0</th>\n",
       "      <td>3</td>\n",
       "      <td>176.863623</td>\n",
       "      <td>NaN</td>\n",
       "      <td>104.651653</td>\n",
       "      <td>122.947312</td>\n",
       "      <td>65.335370</td>\n",
       "      <td>NaN</td>\n",
       "      <td>32.463845</td>\n",
       "      <td>49.454794</td>\n",
       "      <td>0.000000</td>\n",
       "      <td>...</td>\n",
       "      <td>483.394226</td>\n",
       "      <td>643.177002</td>\n",
       "      <td>726.250671</td>\n",
       "      <td>239.983398</td>\n",
       "      <td>506.542175</td>\n",
       "      <td>0.000000</td>\n",
       "      <td>0.000000</td>\n",
       "      <td>0.000000</td>\n",
       "      <td>0.000000</td>\n",
       "      <td>push up</td>\n",
       "    </tr>\n",
       "    <tr>\n",
       "      <th>1</th>\n",
       "      <td>4</td>\n",
       "      <td>46.826189</td>\n",
       "      <td>69.684937</td>\n",
       "      <td>168.525943</td>\n",
       "      <td>175.557773</td>\n",
       "      <td>1.661186</td>\n",
       "      <td>18.735911</td>\n",
       "      <td>171.895412</td>\n",
       "      <td>169.079502</td>\n",
       "      <td>1161.640015</td>\n",
       "      <td>...</td>\n",
       "      <td>591.639526</td>\n",
       "      <td>553.942078</td>\n",
       "      <td>416.250000</td>\n",
       "      <td>547.771667</td>\n",
       "      <td>402.101929</td>\n",
       "      <td>520.475098</td>\n",
       "      <td>268.811005</td>\n",
       "      <td>535.717529</td>\n",
       "      <td>227.031403</td>\n",
       "      <td>push up</td>\n",
       "    </tr>\n",
       "    <tr>\n",
       "      <th>2</th>\n",
       "      <td>5</td>\n",
       "      <td>54.110698</td>\n",
       "      <td>73.605964</td>\n",
       "      <td>169.050747</td>\n",
       "      <td>177.224694</td>\n",
       "      <td>8.860401</td>\n",
       "      <td>14.912523</td>\n",
       "      <td>171.601208</td>\n",
       "      <td>166.037965</td>\n",
       "      <td>1154.134033</td>\n",
       "      <td>...</td>\n",
       "      <td>590.143250</td>\n",
       "      <td>546.691162</td>\n",
       "      <td>410.011993</td>\n",
       "      <td>547.948975</td>\n",
       "      <td>392.688416</td>\n",
       "      <td>514.009399</td>\n",
       "      <td>258.330566</td>\n",
       "      <td>532.663940</td>\n",
       "      <td>218.177002</td>\n",
       "      <td>push up</td>\n",
       "    </tr>\n",
       "    <tr>\n",
       "      <th>3</th>\n",
       "      <td>6</td>\n",
       "      <td>73.103679</td>\n",
       "      <td>79.956933</td>\n",
       "      <td>169.036226</td>\n",
       "      <td>178.504071</td>\n",
       "      <td>10.210434</td>\n",
       "      <td>9.026413</td>\n",
       "      <td>170.603113</td>\n",
       "      <td>165.024651</td>\n",
       "      <td>1141.828735</td>\n",
       "      <td>...</td>\n",
       "      <td>589.522949</td>\n",
       "      <td>538.359619</td>\n",
       "      <td>407.604370</td>\n",
       "      <td>546.816284</td>\n",
       "      <td>381.887543</td>\n",
       "      <td>507.196594</td>\n",
       "      <td>257.297791</td>\n",
       "      <td>534.374756</td>\n",
       "      <td>211.694275</td>\n",
       "      <td>push up</td>\n",
       "    </tr>\n",
       "    <tr>\n",
       "      <th>4</th>\n",
       "      <td>7</td>\n",
       "      <td>88.872161</td>\n",
       "      <td>82.650630</td>\n",
       "      <td>179.723765</td>\n",
       "      <td>172.554238</td>\n",
       "      <td>24.492551</td>\n",
       "      <td>0.515483</td>\n",
       "      <td>156.767759</td>\n",
       "      <td>151.040331</td>\n",
       "      <td>1130.589844</td>\n",
       "      <td>...</td>\n",
       "      <td>575.672180</td>\n",
       "      <td>556.653381</td>\n",
       "      <td>407.057678</td>\n",
       "      <td>549.610840</td>\n",
       "      <td>377.952026</td>\n",
       "      <td>523.083130</td>\n",
       "      <td>271.386780</td>\n",
       "      <td>519.675415</td>\n",
       "      <td>212.834045</td>\n",
       "      <td>push up</td>\n",
       "    </tr>\n",
       "  </tbody>\n",
       "</table>\n",
       "<p>5 rows × 180 columns</p>\n",
       "</div>"
      ],
      "text/plain": [
       "   Image  Left Shoulder-Left Elbow-Left Wrist  \\\n",
       "0      3                           176.863623   \n",
       "1      4                            46.826189   \n",
       "2      5                            54.110698   \n",
       "3      6                            73.103679   \n",
       "4      7                            88.872161   \n",
       "\n",
       "   Right Shoulder-Right Elbow-Right Wrist  Left Shoulder-Left Hip-Left Knee  \\\n",
       "0                                     NaN                        104.651653   \n",
       "1                               69.684937                        168.525943   \n",
       "2                               73.605964                        169.050747   \n",
       "3                               79.956933                        169.036226   \n",
       "4                               82.650630                        179.723765   \n",
       "\n",
       "   Right Shoulder-Right Hip-Right Knee  Left Elbow-Left Shoulder-Left Hip  \\\n",
       "0                           122.947312                          65.335370   \n",
       "1                           175.557773                           1.661186   \n",
       "2                           177.224694                           8.860401   \n",
       "3                           178.504071                          10.210434   \n",
       "4                           172.554238                          24.492551   \n",
       "\n",
       "   Right Elbow-Right Shoulder-Right Hip  Left Hip-Left Knee-Left Ankle  \\\n",
       "0                                   NaN                      32.463845   \n",
       "1                             18.735911                     171.895412   \n",
       "2                             14.912523                     171.601208   \n",
       "3                              9.026413                     170.603113   \n",
       "4                              0.515483                     156.767759   \n",
       "\n",
       "   Right Hip-Right Knee-Right Ankle  Nose-Left Eye_distance  ...  \\\n",
       "0                         49.454794                0.000000  ...   \n",
       "1                        169.079502             1161.640015  ...   \n",
       "2                        166.037965             1154.134033  ...   \n",
       "3                        165.024651             1141.828735  ...   \n",
       "4                        151.040331             1130.589844  ...   \n",
       "\n",
       "   Right Hip_position_x  Left Knee_position_y  Left Knee_position_x  \\\n",
       "0            483.394226            643.177002            726.250671   \n",
       "1            591.639526            553.942078            416.250000   \n",
       "2            590.143250            546.691162            410.011993   \n",
       "3            589.522949            538.359619            407.604370   \n",
       "4            575.672180            556.653381            407.057678   \n",
       "\n",
       "   Right Knee_position_y  Right Knee_position_x  Left Ankle_position_y  \\\n",
       "0             239.983398             506.542175               0.000000   \n",
       "1             547.771667             402.101929             520.475098   \n",
       "2             547.948975             392.688416             514.009399   \n",
       "3             546.816284             381.887543             507.196594   \n",
       "4             549.610840             377.952026             523.083130   \n",
       "\n",
       "   Left Ankle_position_x  Right Ankle_position_y  Right Ankle_position_x  \\\n",
       "0               0.000000                0.000000                0.000000   \n",
       "1             268.811005              535.717529              227.031403   \n",
       "2             258.330566              532.663940              218.177002   \n",
       "3             257.297791              534.374756              211.694275   \n",
       "4             271.386780              519.675415              212.834045   \n",
       "\n",
       "     Label  \n",
       "0  push up  \n",
       "1  push up  \n",
       "2  push up  \n",
       "3  push up  \n",
       "4  push up  \n",
       "\n",
       "[5 rows x 180 columns]"
      ]
     },
     "execution_count": 26,
     "metadata": {},
     "output_type": "execute_result"
    }
   ],
   "source": [
    "# write svm for classification using joint_angles_per_image.csv file\n",
    "import pandas as pd\n",
    "from sklearn.model_selection import train_test_split\n",
    "from sklearn.svm import SVC\n",
    "from sklearn.metrics import accuracy_score\n",
    "\n",
    "# Load the CSV file\n",
    "df = pd.read_csv(\"joint_angles_and_distances_per_image.csv\")\n",
    "\n",
    "# Display the first few rows of the dataframe\n",
    "df.head()\n",
    "\n",
    "\n"
   ]
  },
  {
   "cell_type": "code",
   "execution_count": 27,
   "metadata": {},
   "outputs": [
    {
     "data": {
      "text/plain": [
       "(11493, 180)"
      ]
     },
     "execution_count": 27,
     "metadata": {},
     "output_type": "execute_result"
    }
   ],
   "source": [
    "df.shape"
   ]
  },
  {
   "cell_type": "code",
   "execution_count": 28,
   "metadata": {},
   "outputs": [
    {
     "data": {
      "text/plain": [
       "Left Hip-Left Knee-Left Ankle             2964\n",
       "Right Hip-Right Knee-Right Ankle          2773\n",
       "Right Shoulder-Right Hip-Right Knee        844\n",
       "Left Shoulder-Left Hip-Left Knee           843\n",
       "Right Shoulder-Right Elbow-Right Wrist     771\n",
       "                                          ... \n",
       "Left Ear-Left Ankle_distance                 0\n",
       "Left Ear-Right Ankle_distance                0\n",
       "Right Ear-Left Shoulder_distance             0\n",
       "Right Ear-Right Shoulder_distance            0\n",
       "Label                                        0\n",
       "Length: 180, dtype: int64"
      ]
     },
     "execution_count": 28,
     "metadata": {},
     "output_type": "execute_result"
    }
   ],
   "source": [
    "\n",
    "df.isnull().sum().sort_values(ascending=False)"
   ]
  },
  {
   "cell_type": "code",
   "execution_count": 29,
   "metadata": {},
   "outputs": [
    {
     "name": "stdout",
     "output_type": "stream",
     "text": [
      "Dropped columns: Index(['Left Shoulder-Left Elbow-Left Wrist',\n",
      "       'Right Shoulder-Right Elbow-Right Wrist',\n",
      "       'Left Shoulder-Left Hip-Left Knee',\n",
      "       'Right Shoulder-Right Hip-Right Knee',\n",
      "       'Left Elbow-Left Shoulder-Left Hip',\n",
      "       'Right Elbow-Right Shoulder-Right Hip', 'Left Hip-Left Knee-Left Ankle',\n",
      "       'Right Hip-Right Knee-Right Ankle'],\n",
      "      dtype='object')\n"
     ]
    }
   ],
   "source": [
    "# print dropped columns \n",
    "\n",
    "dropped_columns = df.columns[df.isnull().sum() > 0]\n",
    "print(f\"Dropped columns: {dropped_columns}\")"
   ]
  },
  {
   "cell_type": "code",
   "execution_count": 30,
   "metadata": {},
   "outputs": [],
   "source": [
    "# drop nan columns\n",
    "df = df.dropna(axis=1)\n"
   ]
  },
  {
   "cell_type": "code",
   "execution_count": 31,
   "metadata": {},
   "outputs": [
    {
     "data": {
      "text/plain": [
       "(11493, 172)"
      ]
     },
     "execution_count": 31,
     "metadata": {},
     "output_type": "execute_result"
    }
   ],
   "source": [
    "df.shape"
   ]
  },
  {
   "cell_type": "code",
   "execution_count": 32,
   "metadata": {},
   "outputs": [
    {
     "data": {
      "text/plain": [
       "0"
      ]
     },
     "execution_count": 32,
     "metadata": {},
     "output_type": "execute_result"
    }
   ],
   "source": [
    "df.isnull().sum().sum()"
   ]
  },
  {
   "cell_type": "code",
   "execution_count": 33,
   "metadata": {},
   "outputs": [
    {
     "data": {
      "text/plain": [
       "['models/label_encoder.joblib']"
      ]
     },
     "execution_count": 33,
     "metadata": {},
     "output_type": "execute_result"
    }
   ],
   "source": [
    "# encode the labels using LabelEncoder\n",
    "from sklearn.preprocessing import LabelEncoder\n",
    "\n",
    "le = LabelEncoder()\n",
    "df['Label'] = le.fit_transform(df['Label'])\n",
    "\n",
    "# save the encoder to use it later\n",
    "import joblib\n",
    "\n",
    "joblib.dump(le, \"models/label_encoder.joblib\")\n"
   ]
  },
  {
   "cell_type": "code",
   "execution_count": 34,
   "metadata": {},
   "outputs": [],
   "source": [
    "# Split the data into features (X) and labels (y)\n",
    "X = df.drop(columns=[\"Image\", \"Label\"])  # Features\n",
    "y = df[\"Label\"]  # Labels\n",
    "\n",
    "# normalize the data except the label using standard scaler\n",
    "from sklearn.preprocessing import StandardScaler\n",
    "standardScaler = StandardScaler()\n",
    "X = standardScaler.fit_transform(X)\n",
    "# save the standard scaler for future use\n",
    "import joblib\n",
    "joblib.dump(standardScaler, \"models/standard_scaler.joblib\")\n",
    "\n",
    "# Split the data into training and testing sets\n",
    "X_train, X_test, y_train, y_test = train_test_split(X, y, test_size=0.2, random_state=42)\n"
   ]
  },
  {
   "cell_type": "code",
   "execution_count": 35,
   "metadata": {},
   "outputs": [
    {
     "name": "stdout",
     "output_type": "stream",
     "text": [
      "              precision    recall  f1-score   support\n",
      "\n",
      "           0       1.00      0.98      0.99       227\n",
      "           1       1.00      1.00      1.00       357\n",
      "           2       1.00      1.00      1.00       550\n",
      "           3       0.99      1.00      0.99       304\n",
      "           4       1.00      1.00      1.00       861\n",
      "\n",
      "    accuracy                           1.00      2299\n",
      "   macro avg       1.00      0.99      1.00      2299\n",
      "weighted avg       1.00      1.00      1.00      2299\n",
      "\n",
      "[[223   1   2   1   0]\n",
      " [  0 356   0   1   0]\n",
      " [  0   0 549   0   1]\n",
      " [  0   0   0 303   1]\n",
      " [  0   0   0   2 859]]\n"
     ]
    },
    {
     "data": {
      "text/plain": [
       "['models/xgboost_model.joblib']"
      ]
     },
     "execution_count": 35,
     "metadata": {},
     "output_type": "execute_result"
    }
   ],
   "source": [
    "from sklearn.metrics import classification_report\n",
    "from sklearn.metrics import confusion_matrix\n",
    "# train the model with xg boost\n",
    "from xgboost import XGBClassifier\n",
    "\n",
    "\n",
    "model = XGBClassifier()\n",
    "model.fit(X_train, y_train)\n",
    "\n",
    "# save the model\n",
    "joblib.dump(model, \"models/xgboost_model.joblib\")\n",
    "\n",
    "# Make predictions\n",
    "y_pred = model.predict(X_test)\n",
    "\n",
    "# classification report\n",
    "print(classification_report(y_test, y_pred))\n",
    "print(confusion_matrix(y_test, y_pred))\n",
    "\n",
    "# save the model\n",
    "joblib.dump(model, \"models/xgboost_model.joblib\")\n"
   ]
  },
  {
   "cell_type": "code",
   "execution_count": 36,
   "metadata": {},
   "outputs": [
    {
     "name": "stdout",
     "output_type": "stream",
     "text": [
      "              precision    recall  f1-score   support\n",
      "\n",
      "           0       0.99      0.90      0.94       227\n",
      "           1       0.98      0.97      0.98       357\n",
      "           2       0.97      0.99      0.98       550\n",
      "           3       0.95      0.98      0.96       304\n",
      "           4       0.99      0.99      0.99       861\n",
      "\n",
      "    accuracy                           0.98      2299\n",
      "   macro avg       0.98      0.97      0.97      2299\n",
      "weighted avg       0.98      0.98      0.98      2299\n",
      "\n",
      "[[204   3   9   7   4]\n",
      " [  0 348   8   1   0]\n",
      " [  1   3 546   0   0]\n",
      " [  1   0   0 298   5]\n",
      " [  0   0   1   8 852]]\n"
     ]
    },
    {
     "data": {
      "text/plain": [
       "['models/svm_model.joblib']"
      ]
     },
     "execution_count": 36,
     "metadata": {},
     "output_type": "execute_result"
    }
   ],
   "source": [
    "# train and test svm model\n",
    "from sklearn.svm import SVC\n",
    "model = SVC()\n",
    "model.fit(X_train, y_train)\n",
    "\n",
    "# Make predictions\n",
    "y_pred = model.predict(X_test)\n",
    "\n",
    "# classification report and confusion matrix\n",
    "print(classification_report(y_test, y_pred))\n",
    "print(confusion_matrix(y_test, y_pred))\n",
    "\n",
    "# save the model\n",
    "joblib.dump(model, \"models/svm_model.joblib\")\n",
    "\n"
   ]
  },
  {
   "cell_type": "code",
   "execution_count": 37,
   "metadata": {},
   "outputs": [
    {
     "name": "stdout",
     "output_type": "stream",
     "text": [
      "              precision    recall  f1-score   support\n",
      "\n",
      "           0       1.00      0.98      0.99       227\n",
      "           1       1.00      1.00      1.00       357\n",
      "           2       0.99      1.00      1.00       550\n",
      "           3       0.99      1.00      0.99       304\n",
      "           4       1.00      1.00      1.00       861\n",
      "\n",
      "    accuracy                           1.00      2299\n",
      "   macro avg       0.99      0.99      0.99      2299\n",
      "weighted avg       1.00      1.00      1.00      2299\n",
      "\n",
      "[[222   1   4   0   0]\n",
      " [  0 356   0   1   0]\n",
      " [  1   0 549   0   0]\n",
      " [  0   0   0 303   1]\n",
      " [  0   0   0   2 859]]\n"
     ]
    },
    {
     "data": {
      "text/plain": [
       "['models/random_forest_model.joblib']"
      ]
     },
     "execution_count": 37,
     "metadata": {},
     "output_type": "execute_result"
    }
   ],
   "source": [
    "# train and test random forest model\n",
    "from sklearn.ensemble import RandomForestClassifier\n",
    "model = RandomForestClassifier()\n",
    "model.fit(X_train, y_train)\n",
    "\n",
    "# Make predictions\n",
    "y_pred = model.predict(X_test)\n",
    "\n",
    "# classification report and confusion matrix\n",
    "print(classification_report(y_test, y_pred))\n",
    "print(confusion_matrix(y_test, y_pred))\n",
    "\n",
    "# save the model\n",
    "joblib.dump(model, \"models/random_forest_model.joblib\")\n"
   ]
  },
  {
   "cell_type": "code",
   "execution_count": 38,
   "metadata": {},
   "outputs": [
    {
     "name": "stdout",
     "output_type": "stream",
     "text": [
      "Accuracy: 98.74%\n",
      "              precision    recall  f1-score   support\n",
      "\n",
      "           0       0.98      0.96      0.97       227\n",
      "           1       1.00      0.97      0.98       357\n",
      "           2       0.98      1.00      0.99       550\n",
      "           3       0.99      0.98      0.98       304\n",
      "           4       0.99      1.00      0.99       861\n",
      "\n",
      "    accuracy                           0.99      2299\n",
      "   macro avg       0.99      0.98      0.98      2299\n",
      "weighted avg       0.99      0.99      0.99      2299\n",
      "\n"
     ]
    },
    {
     "data": {
      "text/plain": [
       "['models/mlp_model.joblib']"
      ]
     },
     "execution_count": 38,
     "metadata": {},
     "output_type": "execute_result"
    }
   ],
   "source": [
    "# train mlp model\n",
    "from sklearn.neural_network import MLPClassifier\n",
    "model = MLPClassifier(hidden_layer_sizes=(250, 150,75,50,25), max_iter=1000)\n",
    "model.fit(X_train, y_train)\n",
    "\n",
    "# Make predictions\n",
    "y_pred = model.predict(X_test)\n",
    "\n",
    "# Calculate the accuracy\n",
    "accuracy = accuracy_score(y_test, y_pred)\n",
    "print(f\"Accuracy: {accuracy * 100:.2f}%\")\n",
    "\n",
    "# classifitaion report\n",
    "from sklearn.metrics import classification_report\n",
    "print(classification_report(y_test, y_pred))\n",
    "\n",
    "# save the model\n",
    "joblib.dump(model, \"models/mlp_model.joblib\")"
   ]
  },
  {
   "cell_type": "markdown",
   "metadata": {},
   "source": [
    "# validation part"
   ]
  },
  {
   "cell_type": "markdown",
   "metadata": {},
   "source": [
    "### load data"
   ]
  },
  {
   "cell_type": "code",
   "execution_count": 39,
   "metadata": {},
   "outputs": [],
   "source": [
    "import pandas as pd\n",
    "# Load the CSV file\n",
    "df = pd.read_csv(\"validation_dataset.csv\")\n"
   ]
  },
  {
   "cell_type": "code",
   "execution_count": 40,
   "metadata": {},
   "outputs": [],
   "source": [
    "df.dropna(axis=1,inplace=True)"
   ]
  },
  {
   "cell_type": "code",
   "execution_count": 41,
   "metadata": {},
   "outputs": [],
   "source": [
    "from sklearn.preprocessing import StandardScaler\n",
    "from sklearn.model_selection import train_test_split\n",
    "import joblib\n",
    "\n",
    "# encode the labels using LabelEncoder\n",
    "# load the encoder\n",
    "label_encoder = joblib.load(\"models/label_encoder.joblib\")\n",
    "df[\"Label\"] = label_encoder.transform(df[\"Label\"])\n",
    "\n",
    "# Split the data into features (X) and labels (y)\n",
    "X = df.drop(columns=[\"Image\", \"Label\"])  # Features\n",
    "y = df[\"Label\"]  # Labels\n",
    "\n",
    "# normalize the data except the label using standard scaler\n",
    "# load model\n",
    "standardScaler = joblib.load(\"models/standard_scaler.joblib\")\n",
    "X = standardScaler.fit_transform(X)\n",
    "# save the standard scaler for future use\n",
    "import joblib\n",
    "joblib.dump(standardScaler, \"models/standard_scaler.joblib\")\n",
    "\n",
    "\n",
    "# Split the data into training and testing sets\n",
    "X_train, X_test, y_train, y_test = train_test_split(X, y, test_size=0.2, random_state=42)\n",
    "\n"
   ]
  },
  {
   "cell_type": "markdown",
   "metadata": {},
   "source": [
    "### test models"
   ]
  },
  {
   "cell_type": "code",
   "execution_count": 42,
   "metadata": {},
   "outputs": [
    {
     "name": "stdout",
     "output_type": "stream",
     "text": [
      "              precision    recall  f1-score   support\n",
      "\n",
      "           0       0.32      0.38      0.35       137\n",
      "           1       0.74      0.69      0.72       186\n",
      "           2       0.27      0.38      0.31       159\n",
      "           3       0.09      0.10      0.10       142\n",
      "           4       0.75      0.63      0.69       543\n",
      "\n",
      "    accuracy                           0.51      1167\n",
      "   macro avg       0.43      0.44      0.43      1167\n",
      "weighted avg       0.55      0.51      0.53      1167\n",
      "\n",
      "[[ 52   0   9  19  57]\n",
      " [  0 129   6  16  35]\n",
      " [ 32  40  60  16  11]\n",
      " [  1   1 117  14   9]\n",
      " [ 78   4  33  85 343]]\n"
     ]
    }
   ],
   "source": [
    "# test the xgboost model\n",
    "model = joblib.load(\"models/xgboost_model.joblib\")\n",
    "y_pred = model.predict(X_test)\n",
    "print(classification_report(y_test, y_pred))\n",
    "print(confusion_matrix(y_test, y_pred))\n"
   ]
  },
  {
   "cell_type": "code",
   "execution_count": 43,
   "metadata": {},
   "outputs": [
    {
     "name": "stdout",
     "output_type": "stream",
     "text": [
      "              precision    recall  f1-score   support\n",
      "\n",
      "           0       0.32      0.41      0.36       137\n",
      "           1       0.60      0.69      0.64       186\n",
      "           2       0.33      0.19      0.25       159\n",
      "           3       0.00      0.00      0.00       142\n",
      "           4       0.68      0.58      0.63       543\n",
      "\n",
      "    accuracy                           0.46      1167\n",
      "   macro avg       0.39      0.37      0.37      1167\n",
      "weighted avg       0.49      0.46      0.47      1167\n",
      "\n",
      "[[ 56   0   3  28  50]\n",
      " [  0 128  30   9  19]\n",
      " [ 17  70  31  37   4]\n",
      " [ 29  15  22   0  76]\n",
      " [ 73   0   7 147 316]]\n"
     ]
    }
   ],
   "source": [
    "# test the svm model\n",
    "model = joblib.load(\"models/svm_model.joblib\")\n",
    "y_pred = model.predict(X_test)\n",
    "print(classification_report(y_test, y_pred))\n",
    "print(confusion_matrix(y_test, y_pred))\n"
   ]
  },
  {
   "cell_type": "code",
   "execution_count": 44,
   "metadata": {},
   "outputs": [
    {
     "name": "stdout",
     "output_type": "stream",
     "text": [
      "              precision    recall  f1-score   support\n",
      "\n",
      "           0       0.26      0.36      0.30       137\n",
      "           1       0.82      0.39      0.53       186\n",
      "           2       0.24      0.20      0.22       159\n",
      "           3       0.19      0.32      0.24       142\n",
      "           4       0.70      0.66      0.68       543\n",
      "\n",
      "    accuracy                           0.48      1167\n",
      "   macro avg       0.44      0.39      0.39      1167\n",
      "weighted avg       0.54      0.48      0.49      1167\n",
      "\n",
      "[[ 50   0  21  18  48]\n",
      " [  8  72  14  23  69]\n",
      " [ 65  16  32  33  13]\n",
      " [ 30   0  45  46  21]\n",
      " [ 39   0  19 127 358]]\n"
     ]
    }
   ],
   "source": [
    "# test the random forest model\n",
    "model = joblib.load(\"models/random_forest_model.joblib\")\n",
    "y_pred = model.predict(X_test)\n",
    "print(classification_report(y_test, y_pred))\n",
    "print(confusion_matrix(y_test, y_pred))\n"
   ]
  },
  {
   "cell_type": "code",
   "execution_count": 45,
   "metadata": {},
   "outputs": [
    {
     "name": "stdout",
     "output_type": "stream",
     "text": [
      "              precision    recall  f1-score   support\n",
      "\n",
      "           0       0.71      0.47      0.56       137\n",
      "           1       0.69      0.77      0.73       186\n",
      "           2       0.45      0.40      0.42       159\n",
      "           3       0.39      0.36      0.38       142\n",
      "           4       0.76      0.83      0.79       543\n",
      "\n",
      "    accuracy                           0.66      1167\n",
      "   macro avg       0.60      0.57      0.58      1167\n",
      "weighted avg       0.66      0.66      0.66      1167\n",
      "\n",
      "[[ 64   1  33   6  33]\n",
      " [  0 144  22   7  13]\n",
      " [  3  62  64   1  29]\n",
      " [  7   0  16  51  68]\n",
      " [ 16   2   8  65 452]]\n"
     ]
    }
   ],
   "source": [
    "# test the mlp model\n",
    "model = joblib.load(\"models/mlp_model.joblib\")\n",
    "y_pred = model.predict(X_test)\n",
    "print(classification_report(y_test, y_pred))\n",
    "print(confusion_matrix(y_test, y_pred))\n",
    "\n"
   ]
  }
 ],
 "metadata": {
  "kernelspec": {
   "display_name": "aiclub",
   "language": "python",
   "name": "python3"
  },
  "language_info": {
   "codemirror_mode": {
    "name": "ipython",
    "version": 3
   },
   "file_extension": ".py",
   "mimetype": "text/x-python",
   "name": "python",
   "nbconvert_exporter": "python",
   "pygments_lexer": "ipython3",
   "version": "3.9.19"
  }
 },
 "nbformat": 4,
 "nbformat_minor": 2
}
